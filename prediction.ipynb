{
  "nbformat": 4,
  "nbformat_minor": 0,
  "metadata": {
    "colab": {
      "name": "prediction.ipynb",
      "provenance": [],
      "collapsed_sections": [],
      "include_colab_link": true
    },
    "kernelspec": {
      "name": "python3",
      "display_name": "Python 3"
    }
  },
  "cells": [
    {
      "cell_type": "markdown",
      "metadata": {
        "id": "view-in-github",
        "colab_type": "text"
      },
      "source": [
        "<a href=\"https://colab.research.google.com/github/mmaithani/Predicting-price-of-books/blob/master/prediction.ipynb\" target=\"_parent\"><img src=\"https://colab.research.google.com/assets/colab-badge.svg\" alt=\"Open In Colab\"/></a>"
      ]
    },
    {
      "cell_type": "code",
      "metadata": {
        "id": "6mu2-oHezb4D",
        "colab_type": "code",
        "colab": {}
      },
      "source": [
        "import pandas as pd\n",
        "# from sklearn.preprocessing import LabelEncoder as le\n",
        "# Import label encoder \n",
        "from sklearn import preprocessing \n",
        "# label_encoder object knows how to understand word labels. \n",
        "label_encoder = preprocessing.LabelEncoder() "
      ],
      "execution_count": 0,
      "outputs": []
    },
    {
      "cell_type": "code",
      "metadata": {
        "id": "SfnxjyD71hXf",
        "colab_type": "code",
        "colab": {}
      },
      "source": [
        "data=pd.read_excel('/content/joined_data.xlsx')\n",
        "traindata=pd.read_excel('/content/Data_Train.xlsx')  #given train data     - ('/cleaned_data-open refine/Data_Train.xlsx')\n",
        "or_traindata=pd.read_csv('/content/data_train.csv')  #processed train data - ('/cleaned_data-open refine/data_train.csv')"
      ],
      "execution_count": 0,
      "outputs": []
    },
    {
      "cell_type": "markdown",
      "metadata": {
        "id": "-tvQCbOOzv90",
        "colab_type": "text"
      },
      "source": [
        "# 1. Given data (train)"
      ]
    },
    {
      "cell_type": "code",
      "metadata": {
        "id": "W8-r_jqzzu6c",
        "colab_type": "code",
        "colab": {
          "base_uri": "https://localhost:8080/",
          "height": 289
        },
        "outputId": "121b5139-cfaa-4939-9dcb-436511e0f53a"
      },
      "source": [
        "traindata.head()"
      ],
      "execution_count": 32,
      "outputs": [
        {
          "output_type": "execute_result",
          "data": {
            "text/html": [
              "<div>\n",
              "<style scoped>\n",
              "    .dataframe tbody tr th:only-of-type {\n",
              "        vertical-align: middle;\n",
              "    }\n",
              "\n",
              "    .dataframe tbody tr th {\n",
              "        vertical-align: top;\n",
              "    }\n",
              "\n",
              "    .dataframe thead th {\n",
              "        text-align: right;\n",
              "    }\n",
              "</style>\n",
              "<table border=\"1\" class=\"dataframe\">\n",
              "  <thead>\n",
              "    <tr style=\"text-align: right;\">\n",
              "      <th></th>\n",
              "      <th>Title</th>\n",
              "      <th>Author</th>\n",
              "      <th>Edition</th>\n",
              "      <th>Reviews</th>\n",
              "      <th>Ratings</th>\n",
              "      <th>Synopsis</th>\n",
              "      <th>Genre</th>\n",
              "      <th>BookCategory</th>\n",
              "      <th>Price</th>\n",
              "    </tr>\n",
              "  </thead>\n",
              "  <tbody>\n",
              "    <tr>\n",
              "      <th>0</th>\n",
              "      <td>The Prisoner's Gold (The Hunters 3)</td>\n",
              "      <td>Chris Kuzneski</td>\n",
              "      <td>Paperback,– 10 Mar 2016</td>\n",
              "      <td>4.0 out of 5 stars</td>\n",
              "      <td>8 customer reviews</td>\n",
              "      <td>THE HUNTERS return in their third brilliant no...</td>\n",
              "      <td>Action &amp; Adventure (Books)</td>\n",
              "      <td>Action &amp; Adventure</td>\n",
              "      <td>220.00</td>\n",
              "    </tr>\n",
              "    <tr>\n",
              "      <th>1</th>\n",
              "      <td>Guru Dutt: A Tragedy in Three Acts</td>\n",
              "      <td>Arun Khopkar</td>\n",
              "      <td>Paperback,– 7 Nov 2012</td>\n",
              "      <td>3.9 out of 5 stars</td>\n",
              "      <td>14 customer reviews</td>\n",
              "      <td>A layered portrait of a troubled genius for wh...</td>\n",
              "      <td>Cinema &amp; Broadcast (Books)</td>\n",
              "      <td>Biographies, Diaries &amp; True Accounts</td>\n",
              "      <td>202.93</td>\n",
              "    </tr>\n",
              "    <tr>\n",
              "      <th>2</th>\n",
              "      <td>Leviathan (Penguin Classics)</td>\n",
              "      <td>Thomas Hobbes</td>\n",
              "      <td>Paperback,– 25 Feb 1982</td>\n",
              "      <td>4.8 out of 5 stars</td>\n",
              "      <td>6 customer reviews</td>\n",
              "      <td>\"During the time men live without a common Pow...</td>\n",
              "      <td>International Relations</td>\n",
              "      <td>Humour</td>\n",
              "      <td>299.00</td>\n",
              "    </tr>\n",
              "    <tr>\n",
              "      <th>3</th>\n",
              "      <td>A Pocket Full of Rye (Miss Marple)</td>\n",
              "      <td>Agatha Christie</td>\n",
              "      <td>Paperback,– 5 Oct 2017</td>\n",
              "      <td>4.1 out of 5 stars</td>\n",
              "      <td>13 customer reviews</td>\n",
              "      <td>A handful of grain is found in the pocket of a...</td>\n",
              "      <td>Contemporary Fiction (Books)</td>\n",
              "      <td>Crime, Thriller &amp; Mystery</td>\n",
              "      <td>180.00</td>\n",
              "    </tr>\n",
              "    <tr>\n",
              "      <th>4</th>\n",
              "      <td>LIFE 70 Years of Extraordinary Photography</td>\n",
              "      <td>Editors of Life</td>\n",
              "      <td>Hardcover,– 10 Oct 2006</td>\n",
              "      <td>5.0 out of 5 stars</td>\n",
              "      <td>1 customer review</td>\n",
              "      <td>For seven decades, \"Life\" has been thrilling t...</td>\n",
              "      <td>Photography Textbooks</td>\n",
              "      <td>Arts, Film &amp; Photography</td>\n",
              "      <td>965.62</td>\n",
              "    </tr>\n",
              "  </tbody>\n",
              "</table>\n",
              "</div>"
            ],
            "text/plain": [
              "                                        Title  ...   Price\n",
              "0         The Prisoner's Gold (The Hunters 3)  ...  220.00\n",
              "1          Guru Dutt: A Tragedy in Three Acts  ...  202.93\n",
              "2                Leviathan (Penguin Classics)  ...  299.00\n",
              "3          A Pocket Full of Rye (Miss Marple)  ...  180.00\n",
              "4  LIFE 70 Years of Extraordinary Photography  ...  965.62\n",
              "\n",
              "[5 rows x 9 columns]"
            ]
          },
          "metadata": {
            "tags": []
          },
          "execution_count": 32
        }
      ]
    },
    {
      "cell_type": "markdown",
      "metadata": {
        "id": "icgRqq4g0Fgi",
        "colab_type": "text"
      },
      "source": [
        "# 2. openrefine processed train data"
      ]
    },
    {
      "cell_type": "code",
      "metadata": {
        "id": "Qae6zngO0EwY",
        "colab_type": "code",
        "colab": {
          "base_uri": "https://localhost:8080/",
          "height": 306
        },
        "outputId": "c872526b-2f58-4103-a8e8-e710dbd90061"
      },
      "source": [
        "or_traindata.head()"
      ],
      "execution_count": 33,
      "outputs": [
        {
          "output_type": "execute_result",
          "data": {
            "text/html": [
              "<div>\n",
              "<style scoped>\n",
              "    .dataframe tbody tr th:only-of-type {\n",
              "        vertical-align: middle;\n",
              "    }\n",
              "\n",
              "    .dataframe tbody tr th {\n",
              "        vertical-align: top;\n",
              "    }\n",
              "\n",
              "    .dataframe thead th {\n",
              "        text-align: right;\n",
              "    }\n",
              "</style>\n",
              "<table border=\"1\" class=\"dataframe\">\n",
              "  <thead>\n",
              "    <tr style=\"text-align: right;\">\n",
              "      <th></th>\n",
              "      <th>Title</th>\n",
              "      <th>Author</th>\n",
              "      <th>Edition</th>\n",
              "      <th>date</th>\n",
              "      <th>Reviews 1</th>\n",
              "      <th>Ratings 1 1</th>\n",
              "      <th>Genre</th>\n",
              "      <th>BookCategory</th>\n",
              "      <th>Price</th>\n",
              "    </tr>\n",
              "  </thead>\n",
              "  <tbody>\n",
              "    <tr>\n",
              "      <th>0</th>\n",
              "      <td>The Prisoner's Gold (The Hunters 3)</td>\n",
              "      <td>Chris Kuzneski</td>\n",
              "      <td>Paperback</td>\n",
              "      <td>10 Mar 2016</td>\n",
              "      <td>4.0</td>\n",
              "      <td>8</td>\n",
              "      <td>Action &amp; Adventure (Books)</td>\n",
              "      <td>Action &amp; Adventure</td>\n",
              "      <td>220.00</td>\n",
              "    </tr>\n",
              "    <tr>\n",
              "      <th>1</th>\n",
              "      <td>Guru Dutt: A Tragedy in Three Acts</td>\n",
              "      <td>Arun Khopkar</td>\n",
              "      <td>Paperback</td>\n",
              "      <td>7 Nov 2012</td>\n",
              "      <td>3.9</td>\n",
              "      <td>14</td>\n",
              "      <td>Cinema &amp; Broadcast (Books)</td>\n",
              "      <td>Biographies, Diaries &amp; True Accounts</td>\n",
              "      <td>202.93</td>\n",
              "    </tr>\n",
              "    <tr>\n",
              "      <th>2</th>\n",
              "      <td>Leviathan (Penguin Classics)</td>\n",
              "      <td>Thomas Hobbes</td>\n",
              "      <td>Paperback</td>\n",
              "      <td>25 Feb 1982</td>\n",
              "      <td>4.8</td>\n",
              "      <td>6</td>\n",
              "      <td>International Relations</td>\n",
              "      <td>Humour</td>\n",
              "      <td>299.00</td>\n",
              "    </tr>\n",
              "    <tr>\n",
              "      <th>3</th>\n",
              "      <td>A Pocket Full of Rye (Miss Marple)</td>\n",
              "      <td>Agatha Christie</td>\n",
              "      <td>Paperback</td>\n",
              "      <td>5 Oct 2017</td>\n",
              "      <td>4.1</td>\n",
              "      <td>13</td>\n",
              "      <td>Contemporary Fiction (Books)</td>\n",
              "      <td>Crime, Thriller &amp; Mystery</td>\n",
              "      <td>180.00</td>\n",
              "    </tr>\n",
              "    <tr>\n",
              "      <th>4</th>\n",
              "      <td>LIFE 70 Years of Extraordinary Photography</td>\n",
              "      <td>Editors of Life</td>\n",
              "      <td>Hardcover</td>\n",
              "      <td>10 Oct 2006</td>\n",
              "      <td>5.0</td>\n",
              "      <td>1</td>\n",
              "      <td>Photography Textbooks</td>\n",
              "      <td>Arts, Film &amp; Photography</td>\n",
              "      <td>965.62</td>\n",
              "    </tr>\n",
              "  </tbody>\n",
              "</table>\n",
              "</div>"
            ],
            "text/plain": [
              "                                        Title  ...   Price\n",
              "0         The Prisoner's Gold (The Hunters 3)  ...  220.00\n",
              "1          Guru Dutt: A Tragedy in Three Acts  ...  202.93\n",
              "2                Leviathan (Penguin Classics)  ...  299.00\n",
              "3          A Pocket Full of Rye (Miss Marple)  ...  180.00\n",
              "4  LIFE 70 Years of Extraordinary Photography  ...  965.62\n",
              "\n",
              "[5 rows x 9 columns]"
            ]
          },
          "metadata": {
            "tags": []
          },
          "execution_count": 33
        }
      ]
    },
    {
      "cell_type": "markdown",
      "metadata": {
        "id": "-g_q_vzcxrPO",
        "colab_type": "text"
      },
      "source": [
        "# 3. After openrefine processing -combined train test data\n",
        "## all the review,ratings AND edition data gets cleaned and massaged\n",
        "### date-edition is the new feature created wrt to price"
      ]
    },
    {
      "cell_type": "code",
      "metadata": {
        "id": "l5fS6AryVesS",
        "colab_type": "code",
        "colab": {
          "base_uri": "https://localhost:8080/",
          "height": 289
        },
        "outputId": "3bc39598-0487-4f69-808c-9dc8eb1a0ef8"
      },
      "source": [
        "data.head()"
      ],
      "execution_count": 5,
      "outputs": [
        {
          "output_type": "execute_result",
          "data": {
            "text/html": [
              "<div>\n",
              "<style scoped>\n",
              "    .dataframe tbody tr th:only-of-type {\n",
              "        vertical-align: middle;\n",
              "    }\n",
              "\n",
              "    .dataframe tbody tr th {\n",
              "        vertical-align: top;\n",
              "    }\n",
              "\n",
              "    .dataframe thead th {\n",
              "        text-align: right;\n",
              "    }\n",
              "</style>\n",
              "<table border=\"1\" class=\"dataframe\">\n",
              "  <thead>\n",
              "    <tr style=\"text-align: right;\">\n",
              "      <th></th>\n",
              "      <th>File</th>\n",
              "      <th>Title</th>\n",
              "      <th>Author</th>\n",
              "      <th>Edition 1</th>\n",
              "      <th>Date-edition</th>\n",
              "      <th>Reviews</th>\n",
              "      <th>Ratings</th>\n",
              "      <th>Genre</th>\n",
              "      <th>BookCategory</th>\n",
              "      <th>Price</th>\n",
              "    </tr>\n",
              "  </thead>\n",
              "  <tbody>\n",
              "    <tr>\n",
              "      <th>0</th>\n",
              "      <td>Data_Test</td>\n",
              "      <td>The Complete Sherlock Holmes: 2 Boxes sets</td>\n",
              "      <td>Sir Arthur Conan Doyle</td>\n",
              "      <td>Mass Market Paperback</td>\n",
              "      <td>1 Oct 1986</td>\n",
              "      <td>4.4</td>\n",
              "      <td>960</td>\n",
              "      <td>Short Stories (Books)</td>\n",
              "      <td>Crime, Thriller &amp; Mystery</td>\n",
              "      <td>NaN</td>\n",
              "    </tr>\n",
              "    <tr>\n",
              "      <th>1</th>\n",
              "      <td>Data_Test</td>\n",
              "      <td>Learn Docker - Fundamentals of Docker 18.x: Ev...</td>\n",
              "      <td>Gabriel N. Schenker</td>\n",
              "      <td>Paperback</td>\n",
              "      <td>Import, 26 Apr 2018</td>\n",
              "      <td>5.0</td>\n",
              "      <td>1</td>\n",
              "      <td>Operating Systems Textbooks</td>\n",
              "      <td>Computing, Internet &amp; Digital Media</td>\n",
              "      <td>NaN</td>\n",
              "    </tr>\n",
              "    <tr>\n",
              "      <th>2</th>\n",
              "      <td>Data_Test</td>\n",
              "      <td>Big Girl</td>\n",
              "      <td>Danielle Steel</td>\n",
              "      <td>Paperback</td>\n",
              "      <td>17 Mar 2011</td>\n",
              "      <td>5.0</td>\n",
              "      <td>4</td>\n",
              "      <td>Romance (Books)</td>\n",
              "      <td>Romance</td>\n",
              "      <td>NaN</td>\n",
              "    </tr>\n",
              "    <tr>\n",
              "      <th>3</th>\n",
              "      <td>Data_Test</td>\n",
              "      <td>Think Python: How to Think Like a Computer Sci...</td>\n",
              "      <td>Allen B. Downey</td>\n",
              "      <td>Paperback</td>\n",
              "      <td>2016</td>\n",
              "      <td>4.1</td>\n",
              "      <td>11</td>\n",
              "      <td>Programming &amp; Software Development (Books)</td>\n",
              "      <td>Computing, Internet &amp; Digital Media</td>\n",
              "      <td>NaN</td>\n",
              "    </tr>\n",
              "    <tr>\n",
              "      <th>4</th>\n",
              "      <td>Data_Test</td>\n",
              "      <td>Oxford Word Skills: Advanced - Idioms &amp; Phrasa...</td>\n",
              "      <td>Redman Gairns</td>\n",
              "      <td>Paperback</td>\n",
              "      <td>26 Dec 2011</td>\n",
              "      <td>4.4</td>\n",
              "      <td>9</td>\n",
              "      <td>Linguistics (Books)</td>\n",
              "      <td>Language, Linguistics &amp; Writing</td>\n",
              "      <td>NaN</td>\n",
              "    </tr>\n",
              "  </tbody>\n",
              "</table>\n",
              "</div>"
            ],
            "text/plain": [
              "        File  ... Price\n",
              "0  Data_Test  ...   NaN\n",
              "1  Data_Test  ...   NaN\n",
              "2  Data_Test  ...   NaN\n",
              "3  Data_Test  ...   NaN\n",
              "4  Data_Test  ...   NaN\n",
              "\n",
              "[5 rows x 10 columns]"
            ]
          },
          "metadata": {
            "tags": []
          },
          "execution_count": 5
        }
      ]
    },
    {
      "cell_type": "markdown",
      "metadata": {
        "id": "RejhGTKgV63Z",
        "colab_type": "text"
      },
      "source": [
        "# encoding book category"
      ]
    },
    {
      "cell_type": "code",
      "metadata": {
        "id": "penbrdn8WniJ",
        "colab_type": "code",
        "colab": {
          "base_uri": "https://localhost:8080/",
          "height": 102
        },
        "outputId": "794b254d-5d8f-474c-b159-825507da83dc"
      },
      "source": [
        "data['BookCategory'].unique()"
      ],
      "execution_count": 6,
      "outputs": [
        {
          "output_type": "execute_result",
          "data": {
            "text/plain": [
              "array(['Crime, Thriller & Mystery', 'Computing, Internet & Digital Media',\n",
              "       'Romance', 'Language, Linguistics & Writing',\n",
              "       'Arts, Film & Photography', 'Politics', 'Action & Adventure',\n",
              "       'Humour', 'Sports', 'Biographies, Diaries & True Accounts',\n",
              "       'Comics & Mangas'], dtype=object)"
            ]
          },
          "metadata": {
            "tags": []
          },
          "execution_count": 6
        }
      ]
    },
    {
      "cell_type": "code",
      "metadata": {
        "id": "7M7Q_ggcYQkW",
        "colab_type": "code",
        "colab": {
          "base_uri": "https://localhost:8080/",
          "height": 34
        },
        "outputId": "3548deb7-82cb-4679-aae3-e201cd52a563"
      },
      "source": [
        "# Encode labels in column 'category'. \n",
        "data['BookCategory']= label_encoder.fit_transform(data['BookCategory']) \n",
        "data['BookCategory'].unique() \n"
      ],
      "execution_count": 7,
      "outputs": [
        {
          "output_type": "execute_result",
          "data": {
            "text/plain": [
              "array([ 5,  4,  9,  7,  1,  8,  0,  6, 10,  2,  3])"
            ]
          },
          "metadata": {
            "tags": []
          },
          "execution_count": 7
        }
      ]
    },
    {
      "cell_type": "markdown",
      "metadata": {
        "id": "ye7iqtMcV2N7",
        "colab_type": "text"
      },
      "source": [
        "# Encoding genre"
      ]
    },
    {
      "cell_type": "code",
      "metadata": {
        "id": "zHWx1EKzYzCX",
        "colab_type": "code",
        "colab": {
          "base_uri": "https://localhost:8080/",
          "height": 493
        },
        "outputId": "e2d08e14-4aa4-41d7-dac0-37a1a77af48d"
      },
      "source": [
        "data['Genre']= label_encoder.fit_transform(data['Genre']) \n",
        "data['Genre'].unique() \n"
      ],
      "execution_count": 8,
      "outputs": [
        {
          "output_type": "execute_result",
          "data": {
            "text/plain": [
              "array([304, 255, 294, 275, 219,  23, 242,   1,  25, 346, 186, 187, 303,\n",
              "        35, 103, 336, 320,  64, 109, 122,  99,  46,  21, 215, 273, 216,\n",
              "        87, 168, 190,  76, 337,  17, 227, 100,  34,   8, 335, 359,  72,\n",
              "        22, 127, 353, 174, 162, 167, 165,  86, 193,  92, 241, 247,  19,\n",
              "         9, 229,  96,  13, 313,  85, 333,  55, 218, 271, 277, 330,  78,\n",
              "        83,  50, 266, 256, 140, 310, 332,  38, 325,  94, 338, 307, 322,\n",
              "       272, 291,  47,  91, 269, 207,  45,   3, 341, 282, 342, 264,  36,\n",
              "       237, 154, 352, 293, 172, 156, 212,  24, 300,  31, 202, 195,  16,\n",
              "        95, 224, 108, 155,  48, 329, 171, 204, 308, 226,   0,  40, 170,\n",
              "        71,  80, 321, 323, 114,  32, 240, 159, 161, 181, 183, 191, 160,\n",
              "        12, 139, 249, 213, 125, 222, 234, 318,  69,  75, 290, 314,  60,\n",
              "       149, 283,  67, 118, 201, 194, 278, 134, 261, 137, 214,  90, 189,\n",
              "        97,  58, 245, 166,  29,  61, 101, 343, 145,  77,  41,  49,  88,\n",
              "       124, 131, 104, 315, 130, 180,  79, 182, 223, 115,  73, 292,  59,\n",
              "       276,  62, 175, 355,  44, 178, 263, 225, 133, 357, 235, 141,   5,\n",
              "       324, 142,  11, 147, 128, 317, 188,  68, 309,  89, 153, 169,  43,\n",
              "       116, 356, 158, 135, 197, 301, 230,  70, 312,  98, 221, 267, 238,\n",
              "       287,  66,  26, 347, 200, 257,  27, 146, 231, 196, 217, 305,  63,\n",
              "       208, 328, 260, 152, 289, 358, 150, 111,  81, 184, 117,  93, 351,\n",
              "       350, 281,  53, 270, 362, 157, 164, 179, 148, 203, 211, 173, 268,\n",
              "       126,  57, 327,  10, 138, 284, 123, 345, 344, 340, 252, 258,  84,\n",
              "       110, 144, 239, 120, 246, 163, 311, 265, 199, 296, 129, 206, 209,\n",
              "       262, 210, 205, 177, 302, 198, 274, 185, 119,  14, 331, 236, 176,\n",
              "       279,  52,   7, 192,  42,  56, 243, 248, 360, 254, 306, 107, 106,\n",
              "       348, 326,  82, 259, 228, 349, 286, 361, 102, 105,  33, 121,  15,\n",
              "        28, 339,  39, 298, 112, 299,  74,  54, 250, 334, 280,  18,   2,\n",
              "       136,  20, 143, 251, 354, 285, 316,  37, 233,  51, 297,  65,  30,\n",
              "       232, 151,   4, 288, 220, 295, 132, 244, 113, 319, 253,   6])"
            ]
          },
          "metadata": {
            "tags": []
          },
          "execution_count": 8
        }
      ]
    },
    {
      "cell_type": "code",
      "metadata": {
        "id": "8ut9Buiiab9M",
        "colab_type": "code",
        "colab": {
          "base_uri": "https://localhost:8080/",
          "height": 136
        },
        "outputId": "7282890d-354d-4d1b-ec0b-7123c91e7f1a"
      },
      "source": [
        "data['Edition 1'].unique()"
      ],
      "execution_count": 14,
      "outputs": [
        {
          "output_type": "execute_result",
          "data": {
            "text/plain": [
              "array(['Mass Market Paperback', 'Paperback', 'Hardcover', 'Cards',\n",
              "       'Sheet music', 'Flexibound', 'Spiral-bound', '(Chinese),Paperback',\n",
              "       'Loose Leaf', 'Plastic Comb', 'Tankobon Softcover',\n",
              "       'Perfect Paperback', 'Board book', '(Kannada),Paperback',\n",
              "       'Product Bundle', 'Library Binding', '(German),Paperback',\n",
              "       'Leather Bound', '(French),Paperback', '(Spanish),Paperback'],\n",
              "      dtype=object)"
            ]
          },
          "metadata": {
            "tags": []
          },
          "execution_count": 14
        }
      ]
    },
    {
      "cell_type": "code",
      "metadata": {
        "id": "YeufumuhnvUp",
        "colab_type": "code",
        "colab": {
          "base_uri": "https://localhost:8080/",
          "height": 51
        },
        "outputId": "2b7b73ed-255d-417d-a838-832b00bf6c15"
      },
      "source": [
        "data['Edition 1']= label_encoder.fit_transform(data['Edition 1']) \n",
        "data['Edition 1'].unique() "
      ],
      "execution_count": 15,
      "outputs": [
        {
          "output_type": "execute_result",
          "data": {
            "text/plain": [
              "array([12, 13,  8,  6, 17,  7, 18,  0, 11, 15, 19, 14,  5,  3, 16, 10,  2,\n",
              "        9,  1,  4])"
            ]
          },
          "metadata": {
            "tags": []
          },
          "execution_count": 15
        }
      ]
    },
    {
      "cell_type": "code",
      "metadata": {
        "id": "0nObfmTxn-_f",
        "colab_type": "code",
        "colab": {
          "base_uri": "https://localhost:8080/",
          "height": 204
        },
        "outputId": "ba220593-0918-4704-c9e9-893968954822"
      },
      "source": [
        "data.tail()"
      ],
      "execution_count": 22,
      "outputs": [
        {
          "output_type": "execute_result",
          "data": {
            "text/html": [
              "<div>\n",
              "<style scoped>\n",
              "    .dataframe tbody tr th:only-of-type {\n",
              "        vertical-align: middle;\n",
              "    }\n",
              "\n",
              "    .dataframe tbody tr th {\n",
              "        vertical-align: top;\n",
              "    }\n",
              "\n",
              "    .dataframe thead th {\n",
              "        text-align: right;\n",
              "    }\n",
              "</style>\n",
              "<table border=\"1\" class=\"dataframe\">\n",
              "  <thead>\n",
              "    <tr style=\"text-align: right;\">\n",
              "      <th></th>\n",
              "      <th>File</th>\n",
              "      <th>Title</th>\n",
              "      <th>Author</th>\n",
              "      <th>Edition 1</th>\n",
              "      <th>Date-edition</th>\n",
              "      <th>Reviews</th>\n",
              "      <th>Ratings</th>\n",
              "      <th>Genre</th>\n",
              "      <th>BookCategory</th>\n",
              "      <th>Price</th>\n",
              "    </tr>\n",
              "  </thead>\n",
              "  <tbody>\n",
              "    <tr>\n",
              "      <th>7792</th>\n",
              "      <td>Data_Train</td>\n",
              "      <td>Humans: A Brief History of How We F*cked It Al...</td>\n",
              "      <td>Tom Phillips</td>\n",
              "      <td>13</td>\n",
              "      <td>8 Aug 2018</td>\n",
              "      <td>5.0</td>\n",
              "      <td>2</td>\n",
              "      <td>17</td>\n",
              "      <td>6</td>\n",
              "      <td>322.0</td>\n",
              "    </tr>\n",
              "    <tr>\n",
              "      <th>7793</th>\n",
              "      <td>Data_Train</td>\n",
              "      <td>The Chemist</td>\n",
              "      <td>Stephenie Meyer</td>\n",
              "      <td>13</td>\n",
              "      <td>21 Nov 2016</td>\n",
              "      <td>3.3</td>\n",
              "      <td>9</td>\n",
              "      <td>96</td>\n",
              "      <td>5</td>\n",
              "      <td>421.0</td>\n",
              "    </tr>\n",
              "    <tr>\n",
              "      <th>7794</th>\n",
              "      <td>Data_Train</td>\n",
              "      <td>The Duke And I: Number 1 in series (Bridgerton...</td>\n",
              "      <td>Julia Quinn</td>\n",
              "      <td>13</td>\n",
              "      <td>8 Jun 2006</td>\n",
              "      <td>3.8</td>\n",
              "      <td>3</td>\n",
              "      <td>294</td>\n",
              "      <td>9</td>\n",
              "      <td>399.0</td>\n",
              "    </tr>\n",
              "    <tr>\n",
              "      <th>7795</th>\n",
              "      <td>Data_Train</td>\n",
              "      <td>Frostfire (Kanin Chronicles)</td>\n",
              "      <td>Amanda Hocking</td>\n",
              "      <td>13</td>\n",
              "      <td>15 Jan 2015</td>\n",
              "      <td>3.5</td>\n",
              "      <td>4</td>\n",
              "      <td>1</td>\n",
              "      <td>0</td>\n",
              "      <td>319.0</td>\n",
              "    </tr>\n",
              "    <tr>\n",
              "      <th>7796</th>\n",
              "      <td>Data_Train</td>\n",
              "      <td>The First Order (Sam Capra)</td>\n",
              "      <td>Jeff Abbott</td>\n",
              "      <td>13</td>\n",
              "      <td>21 Dec 2016</td>\n",
              "      <td>3.9</td>\n",
              "      <td>2</td>\n",
              "      <td>1</td>\n",
              "      <td>0</td>\n",
              "      <td>452.0</td>\n",
              "    </tr>\n",
              "  </tbody>\n",
              "</table>\n",
              "</div>"
            ],
            "text/plain": [
              "            File  ...  Price\n",
              "7792  Data_Train  ...  322.0\n",
              "7793  Data_Train  ...  421.0\n",
              "7794  Data_Train  ...  399.0\n",
              "7795  Data_Train  ...  319.0\n",
              "7796  Data_Train  ...  452.0\n",
              "\n",
              "[5 rows x 10 columns]"
            ]
          },
          "metadata": {
            "tags": []
          },
          "execution_count": 22
        }
      ]
    },
    {
      "cell_type": "markdown",
      "metadata": {
        "id": "oT9Qe45qXndr",
        "colab_type": "text"
      },
      "source": [
        "### 6787 are unique title from 7797 record"
      ]
    },
    {
      "cell_type": "code",
      "metadata": {
        "id": "_g0uVBvOoXl3",
        "colab_type": "code",
        "colab": {}
      },
      "source": [
        "n=pd.DataFrame(data['Title'].unique())"
      ],
      "execution_count": 0,
      "outputs": []
    },
    {
      "cell_type": "code",
      "metadata": {
        "id": "3XWjmxnIpM6l",
        "colab_type": "code",
        "colab": {
          "base_uri": "https://localhost:8080/",
          "height": 119
        },
        "outputId": "72e4145a-8193-4c99-c6f7-aab472b51d5b"
      },
      "source": [
        "n.info()"
      ],
      "execution_count": 27,
      "outputs": [
        {
          "output_type": "stream",
          "text": [
            "<class 'pandas.core.frame.DataFrame'>\n",
            "RangeIndex: 6787 entries, 0 to 6786\n",
            "Data columns (total 1 columns):\n",
            "0    6787 non-null object\n",
            "dtypes: object(1)\n",
            "memory usage: 53.1+ KB\n"
          ],
          "name": "stdout"
        }
      ]
    },
    {
      "cell_type": "code",
      "metadata": {
        "id": "Sw0xIXVYXerx",
        "colab_type": "code",
        "colab": {}
      },
      "source": [
        ""
      ],
      "execution_count": 0,
      "outputs": []
    }
  ]
}